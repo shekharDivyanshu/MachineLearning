{
 "cells": [
  {
   "cell_type": "code",
   "execution_count": 188,
   "metadata": {},
   "outputs": [],
   "source": [
    "import json\n",
    "import requests\n",
    "import collections\n",
    "from datetime import date, timedelta\n",
    "import statistics"
   ]
  },
  {
   "cell_type": "code",
   "execution_count": 189,
   "metadata": {},
   "outputs": [],
   "source": [
    "with open(\"./config_secret.json\") as key_file:\n",
    "    key = json.load(key_file)"
   ]
  },
  {
   "cell_type": "code",
   "execution_count": 190,
   "metadata": {},
   "outputs": [],
   "source": [
    "MYAPIKEY = key['api_key']"
   ]
  },
  {
   "cell_type": "code",
   "execution_count": 191,
   "metadata": {},
   "outputs": [],
   "source": [
    "TICKERCODE = 'AFX_X';\n",
    "START_DATE = (datetime.date(2017, 1, 1)).strftime('%Y-%m-%d');\n",
    "END_DATE = (datetime.date(2017, 12, 31)).strftime('%Y-%m-%d');\n",
    "url = 'https://www.quandl.com/api/v3/datasets/FSE/'+TICKERCODE\n",
    "params = {'start_date': START_DATE , 'end_date': END_DATE , 'api_key': MYAPIKEY }\n",
    "\n",
    "response = requests.get(url = url, params = params)"
   ]
  },
  {
   "cell_type": "code",
   "execution_count": 194,
   "metadata": {},
   "outputs": [
    {
     "name": "stdout",
     "output_type": "stream",
     "text": [
      "highest opening price : 53.11\n",
      "lowest opening price : 34.0\n",
      "largest change in any one day : 2.8100000000000023\n",
      "largest inter-day change : 51.76\n",
      "Average daily trading volume : 89124.33725490196\n",
      "Median traded volumne : 76286.0 \n"
     ]
    }
   ],
   "source": [
    "if(response.status_code == 200):\n",
    "    # get data for yeae 2017\n",
    "    data = json.loads(response.content.decode('utf8'))\n",
    "    for item in data.values():\n",
    "        largest_change = -1\n",
    "        inter_day_largest_change = -1\n",
    "        prev_day_close_price = -1\n",
    "        total_traded_volume = 0\n",
    "        count_traded_volume = 0;\n",
    "        \n",
    "        open_price_col_index = item['column_names'].index('Open')\n",
    "        high_price_col_index = item['column_names'].index('High')\n",
    "        low_price_col_index = item['column_names'].index('Low')\n",
    "        close_price_col_index = item['column_names'].index('Close')\n",
    "        traded_vol_col_index = item['column_names'].index('Traded Volume')\n",
    "        date_vol_col_index = item['column_names'].index('Date')\n",
    "        \n",
    "        tradingVolumeList = []\n",
    "        openPriceList = []\n",
    "        \n",
    "        \n",
    "        price_data_list = item['data'];\n",
    "        \n",
    "        for price_data in price_data_list:\n",
    "            if(type(price_data[traded_vol_col_index]) is not float):\n",
    "                local_traded_vol_data = 0.0\n",
    "            else:\n",
    "                local_traded_vol_data = price_data[traded_vol_col_index]\n",
    "                tradingVolumeList.append(local_traded_vol_data)\n",
    "                \n",
    "            total_traded_volume = total_traded_volume + local_traded_vol_data\n",
    "            count_traded_volume = count_traded_volume +1\n",
    "            \n",
    "            if(type(price_data[close_price_col_index]) is not float):\n",
    "                local_close_price_data = 0.0\n",
    "            else:\n",
    "                local_close_price_data = price_data[close_price_col_index]\n",
    "                \n",
    "            if(inter_day_largest_change == -1):\n",
    "                inter_day_largest_change = local_close_price_data\n",
    "            elif((local_close_price_data - prev_day_close_price) > inter_day_largest_change):\n",
    "                inter_day_largest_change = local_close_price_data - prev_day_close_price\n",
    "            prev_day_close_price = local_close_price_data\n",
    "                \n",
    "                \n",
    "            #find largest change in any one day for year 2017\n",
    "            \n",
    "            if(type(price_data[high_price_col_index]) is not float):\n",
    "                local_high_price_data = 0.0\n",
    "            else:\n",
    "                local_high_price_data = price_data[high_price_col_index]\n",
    "            \n",
    "            if(type(price_data[low_price_col_index]) is not float):\n",
    "                local_low_price_data = 0.0\n",
    "            else:\n",
    "                local_low_price_data = price_data[low_price_col_index]\n",
    "                \n",
    "            if (largest_change == -1):\n",
    "                largest_change = local_high_price_data - local_low_price_data\n",
    "            else:\n",
    "                if((local_high_price_data - local_low_price_data) > largest_change):\n",
    "                    largest_change = local_high_price_data - local_low_price_data\n",
    "                \n",
    "            #find highest in a year of 2017 and lowest in a year of 2017  \n",
    "            if(type(price_data[open_price_col_index]) is float):\n",
    "                openPriceList.append(price_data[open_price_col_index])\n",
    "                \n",
    "                \n",
    "        print(\"highest opening price : {}\".format(max(openPriceList)))\n",
    "        print(\"lowest opening price : {}\".format(min(openPriceList)))\n",
    "        print(\"largest change in any one day : {}\".format(largest_change))\n",
    "        print(\"largest inter-day change : {}\".format(inter_day_largest_change))\n",
    "        print(\"Average daily trading volume : {}\".format(total_traded_volume / count_traded_volume))\n",
    "        print(\"Median traded volumne : {} \".format(statistics.median(tradingVolumeList)))\n",
    "                \n",
    "        #for key in item.keys():\n",
    "        #    print(key)\n",
    "else:\n",
    "    print(\n",
    "        \"Error in getting data from website : {} ; status code : {}\"\n",
    "        .format(\n",
    "            response.request.url,\n",
    "            response.status_code\n",
    "        )\n",
    "    )"
   ]
  },
  {
   "cell_type": "code",
   "execution_count": null,
   "metadata": {},
   "outputs": [],
   "source": []
  }
 ],
 "metadata": {
  "kernelspec": {
   "display_name": "Python 3",
   "language": "python",
   "name": "python3"
  },
  "language_info": {
   "codemirror_mode": {
    "name": "ipython",
    "version": 3
   },
   "file_extension": ".py",
   "mimetype": "text/x-python",
   "name": "python",
   "nbconvert_exporter": "python",
   "pygments_lexer": "ipython3",
   "version": "3.7.4"
  }
 },
 "nbformat": 4,
 "nbformat_minor": 2
}
